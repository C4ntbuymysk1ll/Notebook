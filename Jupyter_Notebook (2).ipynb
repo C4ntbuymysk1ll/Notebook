{
 "cells": [
  {
   "cell_type": "markdown",
   "metadata": {},
   "source": [
    "<center>\n",
    "    <img src=\"https://cf-courses-data.s3.us.cloud-object-storage.appdomain.cloud/IBMDeveloperSkillsNetwork-DS0105EN-SkillsNetwork/labs/Module2/images/SN_web_lightmode.png\" width=\"300\" alt=\"cognitiveclass.ai logo\">\n",
    "</center>\n"
   ]
  },
  {
   "cell_type": "markdown",
   "metadata": {},
   "source": [
    "#### Add your code below following the instructions given in the course\n"
   ]
  },
  {
   "cell_type": "markdown",
   "metadata": {},
   "source": [
    "1 Notebook"
   ]
  },
  {
   "cell_type": "markdown",
   "metadata": {},
   "source": [
    "1.1 Introduction"
   ]
  },
  {
   "cell_type": "markdown",
   "metadata": {},
   "source": [
    "R\n",
    "Python\n",
    "SQL\n",
    "Julia\n",
    "MATLAB\n",
    "Scala\n",
    "Java\n",
    "C++"
   ]
  },
  {
   "cell_type": "markdown",
   "metadata": {
    "tags": []
   },
   "source": [
    "Seaborn\n",
    "pandas\n",
    "PyTorch\n",
    "Plotly\n",
    "ggplot\n",
    "Tensorflow\n",
    "Keras\n",
    "pandas\n",
    "Numypy"
   ]
  },
  {
   "cell_type": "code",
   "execution_count": 1,
   "metadata": {
    "tags": []
   },
   "outputs": [
    {
     "data": {
      "text/html": [
       "<div>\n",
       "<style scoped>\n",
       "    .dataframe tbody tr th:only-of-type {\n",
       "        vertical-align: middle;\n",
       "    }\n",
       "\n",
       "    .dataframe tbody tr th {\n",
       "        vertical-align: top;\n",
       "    }\n",
       "\n",
       "    .dataframe thead th {\n",
       "        text-align: right;\n",
       "    }\n",
       "</style>\n",
       "<table border=\"1\" class=\"dataframe\">\n",
       "  <thead>\n",
       "    <tr style=\"text-align: right;\">\n",
       "      <th></th>\n",
       "      <th>Library/Module</th>\n",
       "      <th>Description</th>\n",
       "    </tr>\n",
       "  </thead>\n",
       "  <tbody>\n",
       "    <tr>\n",
       "      <th>0</th>\n",
       "      <td>matplotlib.pyplot (plt)</td>\n",
       "      <td>This library is an interface to matplotlib. It...</td>\n",
       "    </tr>\n",
       "    <tr>\n",
       "      <th>1</th>\n",
       "      <td>numpy</td>\n",
       "      <td>Numpy is a fundamental package for scientific ...</td>\n",
       "    </tr>\n",
       "    <tr>\n",
       "      <th>2</th>\n",
       "      <td>os</td>\n",
       "      <td>The os library is a software library developed...</td>\n",
       "    </tr>\n",
       "    <tr>\n",
       "      <th>3</th>\n",
       "      <td>pandas</td>\n",
       "      <td>\"Pandas\" is a Python library available under t...</td>\n",
       "    </tr>\n",
       "    <tr>\n",
       "      <th>4</th>\n",
       "      <td>sklearn.metrics (auc)</td>\n",
       "      <td>The .roc_curve module of Scikit-learn (2024g) ...</td>\n",
       "    </tr>\n",
       "  </tbody>\n",
       "</table>\n",
       "</div>"
      ],
      "text/plain": [
       "            Library/Module                                        Description\n",
       "0  matplotlib.pyplot (plt)  This library is an interface to matplotlib. It...\n",
       "1                    numpy  Numpy is a fundamental package for scientific ...\n",
       "2                       os  The os library is a software library developed...\n",
       "3                   pandas  \"Pandas\" is a Python library available under t...\n",
       "4    sklearn.metrics (auc)  The .roc_curve module of Scikit-learn (2024g) ..."
      ]
     },
     "execution_count": 1,
     "metadata": {},
     "output_type": "execute_result"
    }
   ],
   "source": [
    "import pandas as pd\n",
    "\n",
    "# Create a DataFrame with the library/module and description\n",
    "data = {\n",
    "    \"Library/Module\": [\"matplotlib.pyplot (plt)\", \"numpy\", \"os\", \"pandas\", \"sklearn.metrics (auc)\",],\n",
    "    \"Description\": [\"This library is an interface to matplotlib. It is a MATLAB-like program for plotting figures including GUI functionality for figures (Matplotlib, 2024).\",\n",
    "                    \"Numpy is a fundamental package for scientific computing with Python. Moreover, logical array manipulation, sorting, selection, and discrete Fourier transformations, to name a few examples, can be performed (Numpy, 2024).\",\n",
    "                    \"The os library is a software library developed directly by the Python Software Foundation. The OS framework provides a portable way to control operating system functionality through Python (Python Software Foundation, 2024).\",\n",
    "                    \"\\\"Pandas\\\" is a Python library available under the BSD license as open source. It is used for efficient and easy structuring and analysis of data in Python (Pandas, 2024).\",\n",
    "                    \"The .roc_curve module of Scikit-learn (2024g) calculates the area under the ROC curve (AUC) from the prediction values.\"]\n",
    "}\n",
    "\n",
    "# Create a DataFrame\n",
    "df = pd.DataFrame(data)\n",
    "\n",
    "# Display the DataFrame\n",
    "df\n"
   ]
  },
  {
   "cell_type": "markdown",
   "metadata": {},
   "source": [
    "2^5 = 32"
   ]
  },
  {
   "cell_type": "code",
   "execution_count": 5,
   "metadata": {
    "tags": []
   },
   "outputs": [
    {
     "name": "stdout",
     "output_type": "stream",
     "text": [
      "Result of multiplication: 320\n",
      "Result of addition: 399\n"
     ]
    }
   ],
   "source": [
    "# Multiplikation\n",
    "multi = 10 * 32\n",
    "print(\"Result of multiplication:\", multi)\n",
    "\n",
    "# Addition\n",
    "addition = 55 + 344\n",
    "print(\"Result of addition:\", addition)"
   ]
  },
  {
   "cell_type": "code",
   "execution_count": 8,
   "metadata": {
    "tags": []
   },
   "outputs": [
    {
     "name": "stdout",
     "output_type": "stream",
     "text": [
      "120 minutes are 2.0 hours.\n"
     ]
    }
   ],
   "source": [
    "minutes = 120\n",
    "\n",
    "hours = minutes / 60\n",
    "\n",
    "print(minutes, \"minutes are\", hours, \"hours.\")\n"
   ]
  },
  {
   "cell_type": "markdown",
   "metadata": {},
   "source": [
    "# goals\n",
    "\n",
    "- getting better in Jupyter Notebook\n",
    "- improve coding skills\n",
    "- learn from everywhere"
   ]
  },
  {
   "cell_type": "markdown",
   "metadata": {},
   "source": [
    "Lucas Dinhof"
   ]
  },
  {
   "cell_type": "code",
   "execution_count": null,
   "metadata": {},
   "outputs": [],
   "source": []
  }
 ],
 "metadata": {
  "kernelspec": {
   "display_name": "Python",
   "language": "python",
   "name": "conda-env-python-py"
  },
  "language_info": {
   "codemirror_mode": {
    "name": "ipython",
    "version": 3
   },
   "file_extension": ".py",
   "mimetype": "text/x-python",
   "name": "python",
   "nbconvert_exporter": "python",
   "pygments_lexer": "ipython3",
   "version": "3.7.12"
  }
 },
 "nbformat": 4,
 "nbformat_minor": 4
}
